{
 "cells": [
  {
   "cell_type": "code",
   "execution_count": 44,
   "metadata": {},
   "outputs": [
    {
     "data": {
      "text/html": [
       "<div>\n",
       "<style scoped>\n",
       "    .dataframe tbody tr th:only-of-type {\n",
       "        vertical-align: middle;\n",
       "    }\n",
       "\n",
       "    .dataframe tbody tr th {\n",
       "        vertical-align: top;\n",
       "    }\n",
       "\n",
       "    .dataframe thead th {\n",
       "        text-align: right;\n",
       "    }\n",
       "</style>\n",
       "<table border=\"1\" class=\"dataframe\">\n",
       "  <thead>\n",
       "    <tr style=\"text-align: right;\">\n",
       "      <th></th>\n",
       "      <th>Date</th>\n",
       "      <th>Zipcode</th>\n",
       "      <th>Viral Load</th>\n",
       "      <th>Positivity Rate</th>\n",
       "      <th>Unvaccinated Rate</th>\n",
       "      <th>Population</th>\n",
       "      <th>Educational attainment</th>\n",
       "      <th>Educational attainment in TX</th>\n",
       "      <th>Poverty</th>\n",
       "      <th>Poverty in Texas</th>\n",
       "      <th>Income (Median)</th>\n",
       "      <th>Income(Median in TX)</th>\n",
       "      <th>Health(lack of health insurance)</th>\n",
       "      <th>Health(lack of Health insurance in TX)</th>\n",
       "    </tr>\n",
       "  </thead>\n",
       "  <tbody>\n",
       "    <tr>\n",
       "      <th>0</th>\n",
       "      <td>07/06/2020-07/13/2023</td>\n",
       "      <td>77002</td>\n",
       "      <td>1.36</td>\n",
       "      <td>16</td>\n",
       "      <td>13</td>\n",
       "      <td>19844</td>\n",
       "      <td>33.30%</td>\n",
       "      <td>33.90%</td>\n",
       "      <td>17.90%</td>\n",
       "      <td>14%</td>\n",
       "      <td>$78,292.00</td>\n",
       "      <td>72284</td>\n",
       "      <td>12.00%</td>\n",
       "      <td>16.60%</td>\n",
       "    </tr>\n",
       "    <tr>\n",
       "      <th>1</th>\n",
       "      <td>07/06/2020-07/13/2024</td>\n",
       "      <td>77003</td>\n",
       "      <td>1.12</td>\n",
       "      <td>6</td>\n",
       "      <td>18</td>\n",
       "      <td>11874</td>\n",
       "      <td>48.30%</td>\n",
       "      <td>33.90%</td>\n",
       "      <td>21.30%</td>\n",
       "      <td>14%</td>\n",
       "      <td>$87,618</td>\n",
       "      <td>72284</td>\n",
       "      <td>14.80%</td>\n",
       "      <td>16.60%</td>\n",
       "    </tr>\n",
       "    <tr>\n",
       "      <th>2</th>\n",
       "      <td>07/06/2020-07/13/2025</td>\n",
       "      <td>77004</td>\n",
       "      <td>0.75</td>\n",
       "      <td>3</td>\n",
       "      <td>40</td>\n",
       "      <td>37005</td>\n",
       "      <td>58.60%</td>\n",
       "      <td>33.90%</td>\n",
       "      <td>27.30%</td>\n",
       "      <td>14%</td>\n",
       "      <td>$68,141</td>\n",
       "      <td>72284</td>\n",
       "      <td>13.50%</td>\n",
       "      <td>16.60%</td>\n",
       "    </tr>\n",
       "    <tr>\n",
       "      <th>3</th>\n",
       "      <td>07/06/2020-07/13/2026</td>\n",
       "      <td>77005</td>\n",
       "      <td>0.50</td>\n",
       "      <td>29</td>\n",
       "      <td>13</td>\n",
       "      <td>28241</td>\n",
       "      <td>86.20%</td>\n",
       "      <td>33.90%</td>\n",
       "      <td>4.30%</td>\n",
       "      <td>14%</td>\n",
       "      <td>$213,059</td>\n",
       "      <td>72284</td>\n",
       "      <td>2.70%</td>\n",
       "      <td>16.60%</td>\n",
       "    </tr>\n",
       "    <tr>\n",
       "      <th>5</th>\n",
       "      <td>07/06/2020-07/13/2028</td>\n",
       "      <td>77007</td>\n",
       "      <td>1.02</td>\n",
       "      <td>6</td>\n",
       "      <td>9</td>\n",
       "      <td>42908</td>\n",
       "      <td>80.30%</td>\n",
       "      <td>33.90%</td>\n",
       "      <td>5.80%</td>\n",
       "      <td>14%</td>\n",
       "      <td>$140,536</td>\n",
       "      <td>72284</td>\n",
       "      <td>5.50%</td>\n",
       "      <td>16.60%</td>\n",
       "    </tr>\n",
       "  </tbody>\n",
       "</table>\n",
       "</div>"
      ],
      "text/plain": [
       "                    Date  Zipcode  Viral Load  Positivity Rate  \\\n",
       "0  07/06/2020-07/13/2023    77002        1.36               16   \n",
       "1  07/06/2020-07/13/2024    77003        1.12                6   \n",
       "2  07/06/2020-07/13/2025    77004        0.75                3   \n",
       "3  07/06/2020-07/13/2026    77005        0.50               29   \n",
       "5  07/06/2020-07/13/2028    77007        1.02                6   \n",
       "\n",
       "   Unvaccinated Rate  Population Educational attainment   \\\n",
       "0                 13       19844                  33.30%   \n",
       "1                 18       11874                  48.30%   \n",
       "2                 40       37005                  58.60%   \n",
       "3                 13       28241                  86.20%   \n",
       "5                  9       42908                  80.30%   \n",
       "\n",
       "  Educational attainment in TX Poverty Poverty in Texas Income (Median)  \\\n",
       "0                       33.90%  17.90%              14%      $78,292.00   \n",
       "1                       33.90%  21.30%              14%         $87,618   \n",
       "2                       33.90%  27.30%              14%         $68,141   \n",
       "3                       33.90%   4.30%              14%        $213,059   \n",
       "5                       33.90%   5.80%              14%        $140,536   \n",
       "\n",
       "   Income(Median in TX) Health(lack of health insurance)  \\\n",
       "0                 72284                           12.00%   \n",
       "1                 72284                           14.80%   \n",
       "2                 72284                           13.50%   \n",
       "3                 72284                            2.70%   \n",
       "5                 72284                            5.50%   \n",
       "\n",
       "  Health(lack of Health insurance in TX)  \n",
       "0                                 16.60%  \n",
       "1                                 16.60%  \n",
       "2                                 16.60%  \n",
       "3                                 16.60%  \n",
       "5                                 16.60%  "
      ]
     },
     "execution_count": 44,
     "metadata": {},
     "output_type": "execute_result"
    }
   ],
   "source": [
    "import pandas as pd\n",
    "import numpy as np\n",
    "from sklearn.linear_model import LinearRegression\n",
    "\n",
    "dataset = pd.read_csv(\"../datasets/Wastewater_Data_Full_UGS_Group5.csv\", thousands=\",\").dropna()\n",
    "dataset.head()"
   ]
  },
  {
   "cell_type": "code",
   "execution_count": 45,
   "metadata": {},
   "outputs": [
    {
     "data": {
      "text/plain": [
       "0    1.36\n",
       "1    1.12\n",
       "2    0.75\n",
       "3    0.50\n",
       "5    1.02\n",
       "Name: Viral Load, dtype: float64"
      ]
     },
     "execution_count": 45,
     "metadata": {},
     "output_type": "execute_result"
    }
   ],
   "source": [
    "# COVID DATA\n",
    "viral_load = dataset[\"Viral Load\"]\n",
    "positivity = dataset[\"Positivity Rate\"]\n",
    "\n",
    "viral_load.head()"
   ]
  },
  {
   "cell_type": "code",
   "execution_count": 50,
   "metadata": {},
   "outputs": [],
   "source": [
    "# DEMOGRAPHIC DATA\n",
    "pop = pd.to_numeric(dataset[\"Population\"]).values.reshape(-1, 1)\n",
    "edu_pct = pd.to_numeric(dataset[\"Educational attainment \"].map(lambda p : p[0:p.find(\"%\")]))\n",
    "med = pd.to_numeric(dataset[\"Income (Median)\"].map(lambda i : i[1:len(i)].replace(\",\",\"\"))).values.reshape(-1, 1)\n",
    "health_pct = pd.to_numeric(dataset[\"Health(lack of health insurance)\"].map(lambda p : p[0:p.find(\"%\")]))\n",
    "pov_pct = pd.to_numeric(dataset[\"Poverty\"].map(lambda p : p[0:p.find(\"%\")]))"
   ]
  },
  {
   "cell_type": "code",
   "execution_count": 65,
   "metadata": {},
   "outputs": [],
   "source": [
    "# Turn our percentages into decimals\n",
    "pov = np.multiply(pop, np.multiply(1/100, pov_pct.values))\n",
    "edu = np.multiply(pop, np.multiply(1/100, edu_pct.values))\n",
    "health = np.multiply(pop, np.multiply(1/100, health_pct.values))"
   ]
  },
  {
   "cell_type": "code",
   "execution_count": 68,
   "metadata": {},
   "outputs": [],
   "source": [
    "# model = LinearRegression().fit(med, viral_load)\n"
   ]
  },
  {
   "cell_type": "code",
   "execution_count": 71,
   "metadata": {},
   "outputs": [
    {
     "name": "stdout",
     "output_type": "stream",
     "text": [
      "[0.07106118940454975, 0.014189461251279512, 0.0028380397455741724, -0.04196605087075267, 0.05960330376734724, 0.027980461473002483, -0.023659054024503856, 0.0048913438686389865, 0.01122068908864493, -0.08236328507019541]\n"
     ]
    }
   ],
   "source": [
    "import matplotlib.p\n",
    "\n",
    "TARGETS = [viral_load, positivity]\n",
    "EXPLANATORY = [pop, edu, med, health, pov]\n",
    "COEFS = []\n",
    "for target in TARGETS:\n",
    "    for var in EXPLANATORY:\n",
    "        model = LinearRegression().fit(var, target)\n",
    "        COEFS.append(model.score(var, target))\n",
    "\n",
    "\n",
    "\n",
    "print(COEFS)"
   ]
  },
  {
   "cell_type": "code",
   "execution_count": 8,
   "metadata": {},
   "outputs": [
    {
     "data": {
      "text/plain": [
       "str"
      ]
     },
     "execution_count": 8,
     "metadata": {},
     "output_type": "execute_result"
    }
   ],
   "source": []
  }
 ],
 "metadata": {
  "kernelspec": {
   "display_name": "base",
   "language": "python",
   "name": "python3"
  },
  "language_info": {
   "codemirror_mode": {
    "name": "ipython",
    "version": 3
   },
   "file_extension": ".py",
   "mimetype": "text/x-python",
   "name": "python",
   "nbconvert_exporter": "python",
   "pygments_lexer": "ipython3",
   "version": "3.9.18"
  }
 },
 "nbformat": 4,
 "nbformat_minor": 2
}
